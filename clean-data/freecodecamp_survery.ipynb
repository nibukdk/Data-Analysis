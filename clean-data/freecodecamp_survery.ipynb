{
 "cells": [
  {
   "cell_type": "markdown",
   "metadata": {},
   "source": [
    "# Investment Market Analysis"
   ]
  },
  {
   "cell_type": "markdown",
   "metadata": {},
   "source": [
    "Software company is looking for new products to invest in. This project is the analysis of dataset that will help company identify the suitable market.\n"
   ]
  },
  {
   "cell_type": "markdown",
   "metadata": {},
   "source": [
    "The dataset used in this project comes from \"FreeCode Camp\" online surevey. FreeCode camp in free elearning site that offers courses of Web Developement. The  ready-made data was choosen due to cost effectiveness and versatile backgrounds of coders that participated in this online survey. The [data](https://github.com/freeCodeCamp/2017-new-coder-survey) can be downloaded from the github repository.\n"
   ]
  },
  {
   "cell_type": "code",
   "execution_count": 282,
   "metadata": {
    "ExecuteTime": {
     "end_time": "2020-06-10T09:11:38.134543Z",
     "start_time": "2020-06-10T09:11:38.127539Z"
    }
   },
   "outputs": [],
   "source": [
    "import pandas as pd\n",
    "import numpy as np\n",
    "import matplotlib.pyplot as plt\n",
    "import seaborn as sns"
   ]
  },
  {
   "cell_type": "code",
   "execution_count": 283,
   "metadata": {
    "ExecuteTime": {
     "end_time": "2020-06-10T09:11:38.780537Z",
     "start_time": "2020-06-10T09:11:38.139539Z"
    }
   },
   "outputs": [
    {
     "name": "stderr",
     "output_type": "stream",
     "text": [
      "C:\\Users\\Lenovo\\anaconda3\\lib\\site-packages\\IPython\\core\\interactiveshell.py:3063: DtypeWarning: Columns (17,62) have mixed types.Specify dtype option on import or set low_memory=False.\n",
      "  interactivity=interactivity, compiler=compiler, result=result)\n"
     ]
    }
   ],
   "source": [
    "df_original = pd.read_csv(\"2017-fCC-New-Coders-Survey-Data.csv\")"
   ]
  },
  {
   "cell_type": "code",
   "execution_count": 284,
   "metadata": {
    "ExecuteTime": {
     "end_time": "2020-06-10T09:11:38.807538Z",
     "start_time": "2020-06-10T09:11:38.785538Z"
    }
   },
   "outputs": [],
   "source": [
    "df = df_original.copy()"
   ]
  },
  {
   "cell_type": "code",
   "execution_count": 285,
   "metadata": {
    "ExecuteTime": {
     "end_time": "2020-06-10T09:11:38.934537Z",
     "start_time": "2020-06-10T09:11:38.814541Z"
    }
   },
   "outputs": [
    {
     "name": "stdout",
     "output_type": "stream",
     "text": [
      "<class 'pandas.core.frame.DataFrame'>\n",
      "RangeIndex: 18175 entries, 0 to 18174\n",
      "Data columns (total 136 columns):\n",
      " #   Column                         Non-Null Count  Dtype  \n",
      "---  ------                         --------------  -----  \n",
      " 0   Age                            15367 non-null  float64\n",
      " 1   AttendedBootcamp               17709 non-null  float64\n",
      " 2   BootcampFinish                 1069 non-null   float64\n",
      " 3   BootcampLoanYesNo              1079 non-null   float64\n",
      " 4   BootcampName                   949 non-null    object \n",
      " 5   BootcampRecommend              1073 non-null   float64\n",
      " 6   ChildrenNumber                 2314 non-null   float64\n",
      " 7   CityPopulation                 15354 non-null  object \n",
      " 8   CodeEventConferences           1609 non-null   float64\n",
      " 9   CodeEventDjangoGirls           165 non-null    float64\n",
      " 10  CodeEventFCC                   1708 non-null   float64\n",
      " 11  CodeEventGameJam               290 non-null    float64\n",
      " 12  CodeEventGirlDev               297 non-null    float64\n",
      " 13  CodeEventHackathons            1977 non-null   float64\n",
      " 14  CodeEventMeetup                2472 non-null   float64\n",
      " 15  CodeEventNodeSchool            446 non-null    float64\n",
      " 16  CodeEventNone                  1076 non-null   float64\n",
      " 17  CodeEventOther                 570 non-null    object \n",
      " 18  CodeEventRailsBridge           133 non-null    float64\n",
      " 19  CodeEventRailsGirls            132 non-null    float64\n",
      " 20  CodeEventStartUpWknd           544 non-null    float64\n",
      " 21  CodeEventWkdBootcamps          547 non-null    float64\n",
      " 22  CodeEventWomenCode             481 non-null    float64\n",
      " 23  CodeEventWorkshops             1753 non-null   float64\n",
      " 24  CommuteTime                    9246 non-null   object \n",
      " 25  CountryCitizen                 15382 non-null  object \n",
      " 26  CountryLive                    15336 non-null  object \n",
      " 27  EmploymentField                8116 non-null   object \n",
      " 28  EmploymentFieldOther           1078 non-null   object \n",
      " 29  EmploymentStatus               14345 non-null  object \n",
      " 30  EmploymentStatusOther          835 non-null    object \n",
      " 31  ExpectedEarning                7200 non-null   float64\n",
      " 32  FinanciallySupporting          3833 non-null   float64\n",
      " 33  FirstDevJob                    4508 non-null   float64\n",
      " 34  Gender                         15454 non-null  object \n",
      " 35  GenderOther                    55 non-null     object \n",
      " 36  HasChildren                    3858 non-null   float64\n",
      " 37  HasDebt                        15291 non-null  float64\n",
      " 38  HasFinancialDependents         15329 non-null  float64\n",
      " 39  HasHighSpdInternet             15380 non-null  float64\n",
      " 40  HasHomeMortgage                6397 non-null   float64\n",
      " 41  HasServedInMilitary            15256 non-null  float64\n",
      " 42  HasStudentDebt                 6402 non-null   float64\n",
      " 43  HomeMortgageOwe                1371 non-null   float64\n",
      " 44  HoursLearning                  16714 non-null  float64\n",
      " 45  ID.x                           18175 non-null  object \n",
      " 46  ID.y                           15743 non-null  object \n",
      " 47  Income                         7623 non-null   float64\n",
      " 48  IsEthnicMinority               15293 non-null  float64\n",
      " 49  IsReceiveDisabilitiesBenefits  15222 non-null  float64\n",
      " 50  IsSoftwareDev                  18068 non-null  float64\n",
      " 51  IsUnderEmployed                9223 non-null   float64\n",
      " 52  JobApplyWhen                   8138 non-null   object \n",
      " 53  JobInterestBackEnd             3201 non-null   float64\n",
      " 54  JobInterestDataEngr            1470 non-null   float64\n",
      " 55  JobInterestDataSci             1940 non-null   float64\n",
      " 56  JobInterestDevOps              1092 non-null   float64\n",
      " 57  JobInterestFrontEnd            4047 non-null   float64\n",
      " 58  JobInterestFullStack           4831 non-null   float64\n",
      " 59  JobInterestGameDev             1875 non-null   float64\n",
      " 60  JobInterestInfoSec             1560 non-null   float64\n",
      " 61  JobInterestMobile              2677 non-null   float64\n",
      " 62  JobInterestOther               266 non-null    object \n",
      " 63  JobInterestProjMngr            939 non-null    float64\n",
      " 64  JobInterestQAEngr              584 non-null    float64\n",
      " 65  JobInterestUX                  1691 non-null   float64\n",
      " 66  JobPref                        13483 non-null  object \n",
      " 67  JobRelocateYesNo               6503 non-null   float64\n",
      " 68  JobRoleInterest                6992 non-null   object \n",
      " 69  JobWherePref                   8118 non-null   object \n",
      " 70  LanguageAtHome                 15344 non-null  object \n",
      " 71  MaritalStatus                  15335 non-null  object \n",
      " 72  MoneyForLearning               16577 non-null  float64\n",
      " 73  MonthsProgramming              17084 non-null  float64\n",
      " 74  NetworkID                      18175 non-null  object \n",
      " 75  Part1EndTime                   18175 non-null  object \n",
      " 76  Part1StartTime                 18175 non-null  object \n",
      " 77  Part2EndTime                   15743 non-null  object \n",
      " 78  Part2StartTime                 15743 non-null  object \n",
      " 79  PodcastChangeLog               403 non-null    float64\n",
      " 80  PodcastCodeNewbie              1636 non-null   float64\n",
      " 81  PodcastCodePen                 773 non-null    float64\n",
      " 82  PodcastDevTea                  728 non-null    float64\n",
      " 83  PodcastDotNET                  327 non-null    float64\n",
      " 84  PodcastGiantRobots             187 non-null    float64\n",
      " 85  PodcastJSAir                   726 non-null    float64\n",
      " 86  PodcastJSJabber                1123 non-null   float64\n",
      " 87  PodcastNone                    1061 non-null   float64\n",
      " 88  PodcastOther                   850 non-null    object \n",
      " 89  PodcastProgThrowdown           345 non-null    float64\n",
      " 90  PodcastRubyRogues              333 non-null    float64\n",
      " 91  PodcastSEDaily                 790 non-null    float64\n",
      " 92  PodcastSERadio                 408 non-null    float64\n",
      " 93  PodcastShopTalk                318 non-null    float64\n",
      " 94  PodcastTalkPython              655 non-null    float64\n",
      " 95  PodcastTheWebAhead             311 non-null    float64\n",
      " 96  ResourceCodecademy             9390 non-null   float64\n",
      " 97  ResourceCodeWars               1848 non-null   float64\n",
      " 98  ResourceCoursera               4402 non-null   float64\n",
      " 99  ResourceCSS                    4671 non-null   float64\n",
      " 100 ResourceEdX                    3243 non-null   float64\n",
      " 101 ResourceEgghead                1341 non-null   float64\n",
      " 102 ResourceFCC                    13803 non-null  float64\n",
      " 103 ResourceHackerRank             2049 non-null   float64\n",
      " 104 ResourceKA                     3800 non-null   float64\n",
      " 105 ResourceLynda                  2558 non-null   float64\n",
      " 106 ResourceMDN                    6417 non-null   float64\n",
      " 107 ResourceOdinProj               976 non-null    float64\n",
      " 108 ResourceOther                  1024 non-null   object \n",
      " 109 ResourcePluralSight            2392 non-null   float64\n",
      " 110 ResourceSkillcrush             452 non-null    float64\n",
      " 111 ResourceSO                     11207 non-null  float64\n",
      " 112 ResourceTreehouse              2260 non-null   float64\n",
      " 113 ResourceUdacity                3837 non-null   float64\n",
      " 114 ResourceUdemy                  5120 non-null   float64\n",
      " 115 ResourceW3S                    9765 non-null   float64\n",
      " 116 SchoolDegree                   15368 non-null  object \n",
      " 117 SchoolMajor                    8727 non-null   object \n",
      " 118 StudentDebtOwe                 3362 non-null   float64\n",
      " 119 YouTubeCodeCourse              956 non-null    float64\n",
      " 120 YouTubeCodingTrain             976 non-null    float64\n",
      " 121 YouTubeCodingTut360            1397 non-null   float64\n",
      " 122 YouTubeComputerphile           1453 non-null   float64\n",
      " 123 YouTubeDerekBanas              1847 non-null   float64\n",
      " 124 YouTubeDevTips                 2619 non-null   float64\n",
      " 125 YouTubeEngineeredTruth         993 non-null    float64\n",
      " 126 YouTubeFCC                     6036 non-null   float64\n",
      " 127 YouTubeFunFunFunction          1261 non-null   float64\n",
      " 128 YouTubeGoogleDev               3539 non-null   float64\n",
      " 129 YouTubeLearnCode               2662 non-null   float64\n",
      " 130 YouTubeLevelUpTuts             1396 non-null   float64\n",
      " 131 YouTubeMIT                     3327 non-null   float64\n",
      " 132 YouTubeMozillaHacks            622 non-null    float64\n",
      " 133 YouTubeOther                   1214 non-null   object \n",
      " 134 YouTubeSimplilearn             201 non-null    float64\n",
      " 135 YouTubeTheNewBoston            2960 non-null   float64\n",
      "dtypes: float64(105), object(31)\n",
      "memory usage: 18.9+ MB\n"
     ]
    }
   ],
   "source": [
    "df.info(verbose=True, null_counts=True)"
   ]
  },
  {
   "cell_type": "markdown",
   "metadata": {},
   "source": [
    "Lets drop nan's from Job interest column, cause predicting someones interest is pointless."
   ]
  },
  {
   "cell_type": "code",
   "execution_count": 286,
   "metadata": {
    "ExecuteTime": {
     "end_time": "2020-06-10T09:11:38.944540Z",
     "start_time": "2020-06-10T09:11:38.937541Z"
    }
   },
   "outputs": [],
   "source": [
    "# df.dropna(subset = ['JobInterestDataEngr', 'JobInterestDataSci', 'JobInterestDevOps',\n",
    "#    'JobInterestFrontEnd', 'JobInterestFullStack', 'JobInterestGameDev',\n",
    "#    'JobInterestInfoSec', 'JobInterestMobile', 'JobInterestOther',\n",
    "#    'JobInterestProjMngr', 'JobInterestQAEngr', 'JobInterestUX', 'JobPref'], axis=0, inplace=True)"
   ]
  },
  {
   "cell_type": "code",
   "execution_count": 287,
   "metadata": {
    "ExecuteTime": {
     "end_time": "2020-06-10T09:11:38.977538Z",
     "start_time": "2020-06-10T09:11:38.947538Z"
    }
   },
   "outputs": [],
   "source": [
    "df.dropna(subset= [\"JobRoleInterest\"], inplace=True)"
   ]
  },
  {
   "cell_type": "markdown",
   "metadata": {},
   "source": [
    "Lets analyze the Country Live columns, since its more important to target the market where people are living in than where they are from.\n"
   ]
  },
  {
   "cell_type": "code",
   "execution_count": 288,
   "metadata": {
    "ExecuteTime": {
     "end_time": "2020-06-10T09:11:38.999538Z",
     "start_time": "2020-06-10T09:11:38.985538Z"
    }
   },
   "outputs": [],
   "source": [
    "country_rel = df['CountryLive'].value_counts(normalize=True)*100\n",
    "country_abs = df['CountryLive'].value_counts()"
   ]
  },
  {
   "cell_type": "markdown",
   "metadata": {},
   "source": [
    "Since the values are sorted by descending order lets just plot first 10 values to see the countires and their share of population"
   ]
  },
  {
   "cell_type": "code",
   "execution_count": 289,
   "metadata": {
    "ExecuteTime": {
     "end_time": "2020-06-10T09:11:39.306538Z",
     "start_time": "2020-06-10T09:11:39.004539Z"
    },
    "scrolled": false
   },
   "outputs": [
    {
     "data": {
      "image/png": "[encoded data removed]",
      "text/plain": [
       "<Figure size 432x288 with 1 Axes>"
      ]
     },
     "metadata": {
      "needs_background": "light"
     },
     "output_type": "display_data"
    }
   ],
   "source": [
    "sns.barplot(country_abs.index.values[:10],country_abs[:10])\n",
    "plt.xlabel(\"Country\")\n",
    "plt.ylabel(\"Amount of People\")\n",
    "plt.tick_params(labelrotation=45)"
   ]
  },
  {
   "cell_type": "code",
   "execution_count": 290,
   "metadata": {
    "ExecuteTime": {
     "end_time": "2020-06-10T09:11:39.585538Z",
     "start_time": "2020-06-10T09:11:39.310539Z"
    },
    "scrolled": false
   },
   "outputs": [
    {
     "data": {
      "text/plain": [
       "<matplotlib.legend.Legend at 0x17d29efc748>"
      ]
     },
     "execution_count": 290,
     "metadata": {},
     "output_type": "execute_result"
    },
    {
     "data": {
      "image/png": "[encoded data removed]",
      "text/plain": [
       "<Figure size 720x720 with 1 Axes>"
      ]
     },
     "metadata": {},
     "output_type": "display_data"
    }
   ],
   "source": [
    "plt.figure(figsize=(10,10))\n",
    "plt.pie(country_rel[:10], autopct=\"%.1f%%\", radius=0.7);\n",
    "plt.legend(labels=['United States of America', 'India', 'United Kingdom', 'Canada',\n",
    "                   'Poland', 'Brazil', 'Germany', 'Australia', 'Russia', 'Ukraine'], loc=0)\n"
   ]
  },
  {
   "cell_type": "markdown",
   "metadata": {
    "ExecuteTime": {
     "end_time": "2020-06-10T06:51:19.020644Z",
     "start_time": "2020-06-10T06:51:19.012647Z"
    }
   },
   "source": [
    "Four countries that should be of priority are US,India, UK and Canada by population and same national language english."
   ]
  },
  {
   "cell_type": "code",
   "execution_count": 291,
   "metadata": {
    "ExecuteTime": {
     "end_time": "2020-06-10T09:11:39.619536Z",
     "start_time": "2020-06-10T09:11:39.589538Z"
    }
   },
   "outputs": [],
   "source": [
    "largest_share_countries= df[(df.CountryLive == 'India') | (df.CountryLive == 'United States of America') |\n",
    "                            (df.CountryLive == \"United Kingdom\") |(df.CountryLive == \"Canada\") ].copy()\n"
   ]
  },
  {
   "cell_type": "markdown",
   "metadata": {},
   "source": [
    "Analysis On Money Spent per Month"
   ]
  },
  {
   "cell_type": "code",
   "execution_count": 292,
   "metadata": {
    "ExecuteTime": {
     "end_time": "2020-06-10T09:11:39.636539Z",
     "start_time": "2020-06-10T09:11:39.624541Z"
    }
   },
   "outputs": [],
   "source": [
    "money_spent_per_mnth = largest_share_countries.MoneyForLearning/ largest_share_countries.MonthsProgramming"
   ]
  },
  {
   "cell_type": "code",
   "execution_count": 293,
   "metadata": {
    "ExecuteTime": {
     "end_time": "2020-06-10T09:11:39.660539Z",
     "start_time": "2020-06-10T09:11:39.640537Z"
    }
   },
   "outputs": [],
   "source": [
    "largest_share_countries.loc[:,'MonthlyMoneySpent']=money_spent_per_mnth"
   ]
  },
  {
   "cell_type": "markdown",
   "metadata": {},
   "source": [
    "lets remove the null values from the countrylive and money_spent_per_mnth column"
   ]
  },
  {
   "cell_type": "code",
   "execution_count": 294,
   "metadata": {
    "ExecuteTime": {
     "end_time": "2020-06-10T09:11:39.684539Z",
     "start_time": "2020-06-10T09:11:39.665538Z"
    }
   },
   "outputs": [
    {
     "data": {
      "text/plain": [
       "array([1.33333333e+01, 2.00000000e+02, 0.00000000e+00,            nan,\n",
       "       1.66666667e+01, 3.57142857e+01, 1.78571429e+01, 1.00000000e+02,\n",
       "       2.85714286e+02, 2.41666667e+00, 6.66666667e+01, 8.33333333e+01,\n",
       "       2.50000000e+01, 5.00000000e+01, 2.77777778e+00, 1.78571429e+00,\n",
       "       3.57142857e+02, 1.05263158e+00, 1.66666667e+02, 3.54166667e+01,\n",
       "       1.87500000e+01, 1.00000000e+01, 4.16666667e-01, 1.11111111e+01,\n",
       "       2.08333333e+01, 2.77777778e+01, 3.50000000e+01, 1.50000000e+01,\n",
       "       4.73684211e+00,            inf, 8.33333333e-01, 2.50000000e+02,\n",
       "       5.83333333e+01, 3.12500000e+01, 2.50000000e+00, 1.25000000e+02,\n",
       "       1.17500000e+02, 8.33333333e+00, 1.60000000e+02, 6.25000000e+01,\n",
       "       3.33333333e+00, 3.86111111e+02, 5.00000000e+02, 9.09090909e+02,\n",
       "       5.58333333e+01, 4.16666667e+00, 2.77777778e+02, 2.72727273e+00,\n",
       "       2.00000000e+01, 1.04166667e+01, 4.82758621e+02, 3.33333333e+01,\n",
       "       2.22222222e+01, 1.25000000e+01, 6.25000000e+02, 6.42857143e+01,\n",
       "       6.00000000e+02, 2.33333333e+03, 2.08333333e+00, 2.25000000e+03,\n",
       "       2.85714286e+03, 4.16666667e+01, 4.33333333e+02, 1.33333333e+02,\n",
       "       4.00000000e+02, 4.16666667e+02, 1.38888889e+01, 7.50000000e+02,\n",
       "       2.94117647e+01, 5.55555556e+01, 1.36363636e+02, 1.56250000e+01,\n",
       "       1.94444444e+02, 8.00000000e+03, 4.00000000e+03, 5.88235294e+00,\n",
       "       3.00000000e+01, 3.07692308e+00, 2.29166667e+02, 2.14285714e+01,\n",
       "       7.50000000e+00, 2.00000000e+03, 3.33333333e+02, 1.42857143e+03,\n",
       "       1.47619048e+01, 1.78571429e+02, 1.40000000e+01, 1.00000000e+03,\n",
       "       3.75000000e+00, 1.08000000e+03, 7.85714286e+02, 6.66666667e+02,\n",
       "       2.06666667e+01, 1.28571429e+03, 3.00000000e+02, 1.06666667e+03,\n",
       "       3.16666667e+00, 1.73333333e+01, 2.33333333e+02, 1.50000000e+03,\n",
       "       6.00000000e+01, 6.25000000e+00, 7.50000000e+01, 6.50000000e+03,\n",
       "       5.83333333e+02, 1.38888889e+02, 8.33333333e+02, 4.00000000e+01,\n",
       "       1.75000000e+02, 7.55555556e+01, 2.42857143e+03, 5.00000000e+00,\n",
       "       1.42857143e+00, 6.66666667e+00, 1.37500000e+02, 8.00000000e+00,\n",
       "       1.42857143e+01, 6.00000000e+00, 1.38888889e+00, 4.00000000e+00,\n",
       "       9.70588235e+02, 8.75000000e+01, 5.95238095e+00, 1.25000000e+00,\n",
       "       2.22222222e+00, 5.00000000e+03, 3.33333333e+03, 7.00000000e+00,\n",
       "       5.55555556e-01, 5.55555556e+00, 7.00000000e+01, 1.14285714e+03,\n",
       "       1.66666667e+00, 1.25000000e+03, 4.85714286e+00, 1.17500000e+01,\n",
       "       7.77777778e+00, 8.00000000e+01, 3.00000000e+00, 7.60000000e+01,\n",
       "       6.12244898e+00, 5.83333333e+00, 6.66666667e-01, 1.66666667e+03,\n",
       "       1.75000000e+03, 1.00000000e+00, 7.14285714e+00, 4.61538462e+01,\n",
       "       2.25000000e+00, 3.25000000e+03, 1.33333333e+00, 5.00000000e+04,\n",
       "       4.25000000e+03, 9.28571429e+02, 5.50000000e+01, 5.55555556e+02,\n",
       "       7.69230769e+00, 1.66666667e-01, 1.07142857e+01, 1.35000000e+01,\n",
       "       9.37500000e+00, 5.50000000e+00, 1.95000000e+02, 3.83333333e+02,\n",
       "       3.25000000e+02, 4.50000000e+02, 1.87500000e+00, 3.75000000e+01,\n",
       "       2.33823529e+02, 2.50000000e+03, 3.84615385e+01, 8.12500000e+02,\n",
       "       2.40000000e+01, 1.50000000e+02, 4.28571429e+00, 5.66666667e+03,\n",
       "       3.33333333e-01, 2.85714286e+01, 6.11111111e+02, 6.15384615e+02,\n",
       "       3.05555556e+02, 1.87500000e+02, 2.08333333e+02, 4.44444444e+01,\n",
       "       3.70370370e+01, 1.80000000e+02, 1.20000000e+01, 3.90000000e+00,\n",
       "       1.71428571e+03, 3.50000000e+02, 1.20000000e+03, 1.53846154e+01,\n",
       "       1.56250000e+00, 4.28571429e+01, 1.57142857e+03, 1.12500000e+01,\n",
       "       1.16666667e+02, 2.91666667e+00, 2.18750000e+00, 1.08333333e+04,\n",
       "       1.61290323e+00, 9.41176471e+02, 1.04166667e+02, 7.72727273e+02,\n",
       "       1.14285714e+02, 6.94444444e+02, 1.81818182e+02, 2.91666667e+02,\n",
       "       2.17391304e+00, 3.12500000e+00, 1.07142857e+03, 6.07142857e+02,\n",
       "       2.30000000e+02, 2.37500000e+03, 1.10000000e+01, 4.66666667e+03,\n",
       "       2.94117647e+00, 1.85714286e+02, 8.75000000e+02, 3.75000000e+02,\n",
       "       8.00000000e+02, 1.15384615e+01, 6.50000000e+01, 4.68750000e+00,\n",
       "       4.54545455e+01, 4.28571429e+02, 1.28205128e+01, 2.66666667e+00,\n",
       "       2.66666667e+02, 3.33333333e-02, 3.00000000e+03, 1.92307692e-01,\n",
       "       2.00000000e+00, 1.90000000e+02, 1.33333333e+03, 1.27272727e+03,\n",
       "       5.11111111e+01, 4.50000000e+01, 8.92857143e+01, 9.28571429e+00,\n",
       "       2.33716667e+03, 5.25000000e+01, 1.20000000e+02, 6.55714286e+01,\n",
       "       1.50000000e+04, 3.47222222e+00, 8.66666667e+01, 5.71428571e+01,\n",
       "       1.04166667e+00, 1.60000000e+00, 2.10526316e+01, 1.62500000e+03,\n",
       "       2.66666667e+03, 1.40000000e+04, 2.25000000e+02, 6.94444444e+00,\n",
       "       2.38095238e+00, 3.47222222e+02, 6.31578947e+00, 1.11111111e+02,\n",
       "       6.66666667e+03, 4.80000000e+01, 3.84615385e+00, 5.70000000e+01,\n",
       "       9.09090909e+01, 2.30000000e+01, 2.20000000e+03, 1.50000000e+00,\n",
       "       1.81818182e+01, 7.69230769e+01, 1.56666667e+03, 1.98000000e+02,\n",
       "       2.16666667e+01, 1.40000000e+03, 4.64285714e+00, 7.14285714e+01,\n",
       "       1.81818182e+00, 3.12500000e+02, 6.94444444e-01, 9.09090909e-01,\n",
       "       1.16666667e+01, 5.94000000e+02, 6.66666667e-02, 5.00000000e-02,\n",
       "       1.53333333e+00, 1.88235294e+01, 2.22222222e+03, 1.08333333e+01,\n",
       "       2.75000000e+03, 5.26315789e+00, 1.15000000e+03, 4.28571429e-01,\n",
       "       2.85714286e+00, 6.63333333e+01, 1.15000000e+02, 6.25000000e-01,\n",
       "       7.69230769e-01, 6.94444444e+01, 6.30000000e+02, 1.76666667e+01,\n",
       "       1.67000000e+03, 2.08333333e-01, 4.11764706e+01, 1.45833333e+01,\n",
       "       3.10344828e+02, 4.44444444e+00, 6.18750000e+00, 8.88888889e+02,\n",
       "       5.62500000e+01, 7.65000000e+01, 5.39285714e+00, 1.38888889e-01,\n",
       "       4.33333333e+00, 1.30000000e+01, 1.42857143e+02, 3.10000000e+01,\n",
       "       1.22857143e+03, 5.00000000e-01, 3.16666667e+03, 8.57142857e+00,\n",
       "       3.70370370e+02, 1.16666667e+03, 1.28205128e+00, 1.22222222e+03,\n",
       "       5.33333333e+03, 9.36750000e+02, 3.50000000e+03, 9.72222222e+02,\n",
       "       1.00000000e+04, 2.70000000e+02, 4.16500000e+02, 4.37500000e+02,\n",
       "       2.04166667e+03, 1.17647059e+01, 9.43750000e+02, 6.72043011e-01,\n",
       "       4.72222222e+01, 4.54545455e+00, 1.75000000e+00, 2.40000000e+03,\n",
       "       5.71428571e+00, 8.00000000e+04, 1.30000000e+02, 1.21428571e+02,\n",
       "       4.31034483e-01, 1.83333333e+03, 1.11000000e+02, 3.46666667e+01,\n",
       "       9.00000000e-01, 4.16666667e+03, 3.70000000e+02, 3.57142857e-01,\n",
       "       9.00000000e+01, 7.08333333e-01, 5.41666667e+01, 1.11111111e+00,\n",
       "       6.87500000e+02, 3.07692308e+02, 4.83333333e+00, 4.55000000e+03,\n",
       "       9.20000000e+01, 2.38095238e+01, 2.75000000e+02, 7.14285714e-01,\n",
       "       1.66666667e+04, 4.50000000e+03, 9.00000000e+02, 8.75000000e+00,\n",
       "       7.10000000e+01, 1.20833333e+00, 2.69230769e+01, 1.25000000e+04,\n",
       "       1.35135135e+00, 3.57142857e+00, 2.59259259e+00, 3.88888889e+02,\n",
       "       1.70000000e+02, 4.86111111e+01, 1.40000000e+02, 1.94444444e+01,\n",
       "       2.50000000e-01, 8.66666667e+02, 2.37500000e+01, 1.65000000e+03,\n",
       "       3.32500000e+01, 1.10000000e+03, 1.36363636e+01])"
      ]
     },
     "execution_count": 294,
     "metadata": {},
     "output_type": "execute_result"
    }
   ],
   "source": [
    "largest_share_countries.MonthlyMoneySpent.unique()"
   ]
  },
  {
   "cell_type": "code",
   "execution_count": 295,
   "metadata": {
    "ExecuteTime": {
     "end_time": "2020-06-10T09:11:39.716533Z",
     "start_time": "2020-06-10T09:11:39.688537Z"
    }
   },
   "outputs": [],
   "source": [
    "# It seems theres inf in the df so lets replace it\n",
    "largest_share_countries.replace([np.inf, -np.inf], np.nan,inplace=True)"
   ]
  },
  {
   "cell_type": "code",
   "execution_count": 296,
   "metadata": {
    "ExecuteTime": {
     "end_time": "2020-06-10T09:11:39.744538Z",
     "start_time": "2020-06-10T09:11:39.720538Z"
    }
   },
   "outputs": [],
   "source": [
    "largest_share_countries.dropna(subset=['MonthlyMoneySpent', 'CountryLive'],inplace=True)"
   ]
  },
  {
   "cell_type": "code",
   "execution_count": 297,
   "metadata": {
    "ExecuteTime": {
     "end_time": "2020-06-10T09:11:40.559536Z",
     "start_time": "2020-06-10T09:11:39.750541Z"
    }
   },
   "outputs": [
    {
     "name": "stdout",
     "output_type": "stream",
     "text": [
      "CountryLive\n",
      "Canada                      107.415450\n",
      "India                       136.347477\n",
      "United Kingdom               46.904110\n",
      "United States of America    232.771574\n",
      "Name: MonthlyMoneySpent, dtype: float64\n",
      "CountryLive\n",
      "Canada                      0.0\n",
      "India                       0.0\n",
      "United Kingdom              0.0\n",
      "United States of America    0.0\n",
      "Name: MonthlyMoneySpent, dtype: float64\n",
      "CountryLive\n",
      "Canada                      0.000000\n",
      "India                       0.000000\n",
      "United Kingdom              0.150000\n",
      "United States of America    4.166667\n",
      "Name: MonthlyMoneySpent, dtype: float64\n"
     ]
    }
   ],
   "source": [
    "print(largest_share_countries.groupby('CountryLive').mean()['MonthlyMoneySpent'])\n",
    "print(largest_share_countries.groupby('CountryLive').agg(pd.Series.mode)['MonthlyMoneySpent'])\n",
    "print(largest_share_countries.groupby('CountryLive').median()['MonthlyMoneySpent'])"
   ]
  },
  {
   "cell_type": "markdown",
   "metadata": {},
   "source": [
    "According to the average money spent by students per month, US and India are still on firs and second position. However, students in UK seem to spend less than student in Canada. But most of students don't pay money in all countries. While more then half of total student only spent about 5 dollars in US on education."
   ]
  },
  {
   "cell_type": "markdown",
   "metadata": {},
   "source": [
    "## Outliers "
   ]
  },
  {
   "cell_type": "markdown",
   "metadata": {},
   "source": [
    "The above data is unexpected interms of per capita, gdp of countries like UK and Canada. Lets check for outliers and data imbalance."
   ]
  },
  {
   "cell_type": "code",
   "execution_count": 298,
   "metadata": {
    "ExecuteTime": {
     "end_time": "2020-06-10T09:11:41.847540Z",
     "start_time": "2020-06-10T09:11:40.563535Z"
    }
   },
   "outputs": [
    {
     "name": "stdout",
     "output_type": "stream",
     "text": [
      "                           count        mean          std  min  25%       50%  \\\n",
      "CountryLive                                                                     \n",
      "Canada                     235.0  107.415450   427.998882  0.0  0.0  0.000000   \n",
      "India                      454.0  136.347477   699.412909  0.0  0.0  0.000000   \n",
      "United Kingdom             270.0   46.904110   164.811738  0.0  0.0  0.150000   \n",
      "United States of America  2810.0  232.771574  1974.260414  0.0  0.0  4.166667   \n",
      "\n",
      "                                75%      max  \n",
      "CountryLive                                   \n",
      "Canada                    25.000000   5000.0  \n",
      "India                     12.875000  10000.0  \n",
      "United Kingdom            20.833333   1400.0  \n",
      "United States of America  50.000000  80000.0  \n"
     ]
    }
   ],
   "source": [
    "desc_by_country= largest_share_countries.groupby('CountryLive').describe()['MonthlyMoneySpent']\n",
    "print(desc_by_country)"
   ]
  },
  {
   "cell_type": "code",
   "execution_count": 299,
   "metadata": {
    "ExecuteTime": {
     "end_time": "2020-06-10T09:11:41.864539Z",
     "start_time": "2020-06-10T09:11:41.851548Z"
    }
   },
   "outputs": [],
   "source": [
    "#from above iqr = 1.5*(75%-25%)\n",
    "iqr_us = 1.5* (desc_by_country.loc['United States of America'][6]-desc_by_country.loc['United States of America'][4])\n",
    "\n",
    "iqr_uk = 1.5* (desc_by_country.loc['United Kingdom'][6]-desc_by_country.loc['United Kingdom'][4])\n",
    "iqr_canada = 1.5* (desc_by_country.loc['Canada'][6]-desc_by_country.loc['Canada'][4])\n",
    "iqr_india = 1.5* (desc_by_country.loc['India'][6]-desc_by_country.loc['India'][4])\n"
   ]
  },
  {
   "cell_type": "code",
   "execution_count": 300,
   "metadata": {
    "ExecuteTime": {
     "end_time": "2020-06-10T09:11:42.203536Z",
     "start_time": "2020-06-10T09:11:41.878548Z"
    }
   },
   "outputs": [
    {
     "data": {
      "image/png": "[encoded data removed]",
      "text/plain": [
       "<Figure size 432x288 with 1 Axes>"
      ]
     },
     "metadata": {
      "needs_background": "light"
     },
     "output_type": "display_data"
    }
   ],
   "source": [
    "sns.boxplot( x='CountryLive' ,y=\"MonthlyMoneySpent\",data=largest_share_countries)\n",
    "# The upper limit in ylim below is the exterme values above which all values are outliers for US. \n",
    "#Us was chooses due to its largest proportion\n",
    "plt.tick_params(labelrotation=45)"
   ]
  },
  {
   "cell_type": "markdown",
   "metadata": {},
   "source": [
    "Lets Zoom IN"
   ]
  },
  {
   "cell_type": "code",
   "execution_count": 301,
   "metadata": {
    "ExecuteTime": {
     "end_time": "2020-06-10T09:11:42.515541Z",
     "start_time": "2020-06-10T09:11:42.209545Z"
    }
   },
   "outputs": [
    {
     "data": {
      "image/png": "[encoded data removed]",
      "text/plain": [
       "<Figure size 432x288 with 1 Axes>"
      ]
     },
     "metadata": {
      "needs_background": "light"
     },
     "output_type": "display_data"
    }
   ],
   "source": [
    "sns.boxplot( x='CountryLive' ,y=\"MonthlyMoneySpent\",data=largest_share_countries)\n",
    "# The upper limit in ylim below is the exterme values above which all values are outliers for US. \n",
    "#Us was chooses due to its largest proportion\n",
    "plt.ylim((0,desc_by_country.loc['United States of America'][6] + iqr_us))\n",
    "plt.tick_params(labelrotation=45)"
   ]
  },
  {
   "cell_type": "markdown",
   "metadata": {},
   "source": [
    "So, it seems India, US have lots of outliers. The max value in US Is 80k where as upper extreme is just 120 . However, due to differnce in gdp, not all values can be fake or outliers.So, lets remove outliers that are greater then 3 times IQR of respective countries. "
   ]
  },
  {
   "cell_type": "markdown",
   "metadata": {},
   "source": [
    "## Create Outlier Free DF by Countries"
   ]
  },
  {
   "cell_type": "code",
   "execution_count": 302,
   "metadata": {
    "ExecuteTime": {
     "end_time": "2020-06-10T09:11:42.550538Z",
     "start_time": "2020-06-10T09:11:42.520542Z"
    }
   },
   "outputs": [],
   "source": [
    "\n",
    "us_outlier_free = largest_share_countries[(largest_share_countries['CountryLive']==\"United States of America\") & (largest_share_countries['MonthlyMoneySpent']<=3 *iqr_us)]\n",
    "# us_outlier_free = largest_share_countries[(largest_share_countries['CountryLive']==\"United States of America\")]\n",
    "\n",
    "canada_outlier_free = largest_share_countries[(largest_share_countries['CountryLive']==\"Canada\") & (largest_share_countries['MonthlyMoneySpent']<= 1.5*iqr_canada)]\n",
    "india_outlier_free = largest_share_countries[(largest_share_countries['CountryLive']==\"India\") & (largest_share_countries['MonthlyMoneySpent']<= 1.5*iqr_india)]\n",
    "uk_outlier_free = largest_share_countries[(largest_share_countries['CountryLive']==\"United Kingdom\") & (largest_share_countries['MonthlyMoneySpent']<= 1.5*iqr_uk)]"
   ]
  },
  {
   "cell_type": "code",
   "execution_count": 303,
   "metadata": {
    "ExecuteTime": {
     "end_time": "2020-06-10T09:11:42.566538Z",
     "start_time": "2020-06-10T09:11:42.556544Z"
    }
   },
   "outputs": [
    {
     "name": "stdout",
     "output_type": "stream",
     "text": [
      "US:  21.63847048909258\n",
      "UK:  5.3693003747502015\n",
      "Canada: 6.397992544810482\n",
      "India:  2.4944469145572032\n"
     ]
    }
   ],
   "source": [
    "print(\"US: \", us_outlier_free.MonthlyMoneySpent.mean())\n",
    "print(\"UK: \",uk_outlier_free.MonthlyMoneySpent.mean())\n",
    "print(\"Canada:\", canada_outlier_free.MonthlyMoneySpent.mean())\n",
    "print(\"India: \",india_outlier_free.MonthlyMoneySpent.mean())"
   ]
  },
  {
   "cell_type": "markdown",
   "metadata": {},
   "source": [
    "The above values gives rank rather than precise earning since the any value above 1.5 times was considered outliers.But the task is to find the countries that can spend more 59/mnth subscription"
   ]
  },
  {
   "cell_type": "code",
   "execution_count": 305,
   "metadata": {
    "ExecuteTime": {
     "end_time": "2020-06-10T09:11:51.908320Z",
     "start_time": "2020-06-10T09:11:51.897320Z"
    }
   },
   "outputs": [],
   "source": [
    "# From the first boxplot its obvious us have varying range, so lets cut the values above 18k gain new df\n",
    "\n",
    "outlier_free_df = largest_share_countries[largest_share_countries['MonthlyMoneySpent']<=18000]"
   ]
  },
  {
   "cell_type": "code",
   "execution_count": 306,
   "metadata": {
    "ExecuteTime": {
     "end_time": "2020-06-10T09:12:27.789721Z",
     "start_time": "2020-06-10T09:12:27.764724Z"
    }
   },
   "outputs": [
    {
     "name": "stdout",
     "output_type": "stream",
     "text": [
      "CountryLive\n",
      "Canada                      107.415450\n",
      "India                       136.347477\n",
      "United Kingdom               46.904110\n",
      "United States of America    186.641069\n",
      "Name: MonthlyMoneySpent, dtype: float64\n"
     ]
    }
   ],
   "source": [
    "print(outlier_free_df.groupby('CountryLive').mean()['MonthlyMoneySpent'])"
   ]
  }
 ],
 "metadata": {
  "kernelspec": {
   "display_name": "Python 3",
   "language": "python",
   "name": "python3"
  },
  "language_info": {
   "codemirror_mode": {
    "name": "ipython",
    "version": 3
   },
   "file_extension": ".py",
   "mimetype": "text/x-python",
   "name": "python",
   "nbconvert_exporter": "python",
   "pygments_lexer": "ipython3",
   "version": "3.7.6"
  },
  "varInspector": {
   "cols": {
    "lenName": 16,
    "lenType": 16,
    "lenVar": 40
   },
   "kernels_config": {
    "python": {
     "delete_cmd_postfix": "",
     "delete_cmd_prefix": "del ",
     "library": "var_list.py",
     "varRefreshCmd": "print(var_dic_list())"
    },
    "r": {
     "delete_cmd_postfix": ") ",
     "delete_cmd_prefix": "rm(",
     "library": "var_list.r",
     "varRefreshCmd": "cat(var_dic_list()) "
    }
   },
   "types_to_exclude": [
    "module",
    "function",
    "builtin_function_or_method",
    "instance",
    "_Feature"
   ],
   "window_display": false
  }
 },
 "nbformat": 4,
 "nbformat_minor": 4
}
